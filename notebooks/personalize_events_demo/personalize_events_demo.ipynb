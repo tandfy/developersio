{
 "cells": [
  {
   "cell_type": "markdown",
   "metadata": {},
   "source": [
    "# Amazon Personalizeのイベント追加前後のレコメンド内容検証"
   ]
  },
  {
   "cell_type": "code",
   "execution_count": null,
   "metadata": {},
   "outputs": [],
   "source": [
    "from personalize_util import DatasetGroup, DatasetObject, Solution, Campaign, EventTracker, EventObject\n",
    "from os import path\n",
    "import pandas as pd"
   ]
  },
  {
   "cell_type": "code",
   "execution_count": null,
   "metadata": {},
   "outputs": [],
   "source": [
    "s3_prefix = 's3://{bucket_name}/personalize/events-demo/'\n",
    "role_arn = 'arn:aws:iam::{account_id}:role/service-role/AmazonPersonalize-ExecutionRole'\n",
    "event_type = 'CLICK'"
   ]
  },
  {
   "cell_type": "markdown",
   "metadata": {},
   "source": [
    "## データ準備"
   ]
  },
  {
   "cell_type": "code",
   "execution_count": null,
   "metadata": {},
   "outputs": [],
   "source": [
    "# https://grouplens.org/datasets/movielens/100k/\n",
    "!wget -N http://files.grouplens.org/datasets/movielens/ml-100k.zip\n",
    "!unzip -o ml-100k.zip"
   ]
  },
  {
   "cell_type": "code",
   "execution_count": null,
   "metadata": {},
   "outputs": [],
   "source": [
    "df = pd.read_csv('./ml-100k/u.data', sep='\\t', names=['USER_ID', 'ITEM_ID', 'RATING', 'TIMESTAMP'])\n",
    "df.drop('RATING', axis=1, inplace=True)\n",
    "df['EVENT_TYPE'] = event_type\n",
    "df"
   ]
  },
  {
   "cell_type": "code",
   "execution_count": null,
   "metadata": {},
   "outputs": [],
   "source": [
    "items = pd.read_csv('./ml-100k/u.item', sep='|', names=[\n",
    "    'ITEM_ID', 'TITLE', 'RELEASE_DATE', 'VIDEO_RELEASE_DATE', 'IMDB_URL', 'UNKNOWN', 'ACTION', 'ADVENTURE', 'ANIMATION', \"CHILDREN'S\", 'COMEDY', 'CRIME', 'DOCUMENTARY', 'DRAMA', 'FANTASY', 'FILM-NOIR', 'HORROR', 'MUSICAL', 'MYSTERY', 'ROMANCE', 'SCI-FI', 'THRILLER', 'WAR', 'WESTERN'\n",
    "], encoding='latin-1')\n",
    "items.set_index('ITEM_ID', inplace=True)\n",
    "def extract_genre(row):\n",
    "    return '|'.join([i for i, v in row[5:].items() if v == 1 ])\n",
    "items['GENRE'] = items.apply(extract_genre, axis=1)\n",
    "items = items[['TITLE', 'GENRE']]\n",
    "items"
   ]
  },
  {
   "cell_type": "code",
   "execution_count": null,
   "metadata": {},
   "outputs": [],
   "source": [
    "interactions_data_path = path.join(s3_prefix, 'datasets', 'interactions.csv')\n",
    "df.to_csv(interactions_data_path)"
   ]
  },
  {
   "cell_type": "markdown",
   "metadata": {},
   "source": [
    "## Amazon Personalizeの各種リソース作成"
   ]
  },
  {
   "cell_type": "code",
   "execution_count": null,
   "metadata": {},
   "outputs": [],
   "source": [
    "dataset_group = DatasetGroup.create_dataset_group('events_demo')"
   ]
  },
  {
   "cell_type": "code",
   "execution_count": null,
   "metadata": {},
   "outputs": [],
   "source": [
    "# スキーマのフィールド定義\n",
    "fields = [\n",
    "    {\n",
    "        \"name\": \"USER_ID\",\n",
    "        \"type\": \"string\"\n",
    "    },\n",
    "    {\n",
    "        \"name\": \"ITEM_ID\",\n",
    "        \"type\": \"string\"\n",
    "    },\n",
    "    {\n",
    "        \"name\": \"TIMESTAMP\",\n",
    "        \"type\": \"long\"\n",
    "    },\n",
    "    {\n",
    "        \"name\":\"EVENT_TYPE\",\n",
    "        \"type\":\"string\"\n",
    "    }\n",
    "]\n",
    "\n",
    "# スキーマとデータセットを作成し、データをインポート\n",
    "dataset_group.create_datasets_and_import_data(\n",
    "    datasets=[DatasetObject('Interactions', fields, interactions_data_path)],\n",
    "    role_arn=role_arn,\n",
    "    use_it_if_existed=True # 同種のリソースが作成ずみなら、そのままそのリソースを使う\n",
    ")"
   ]
  },
  {
   "cell_type": "code",
   "execution_count": null,
   "metadata": {},
   "outputs": [],
   "source": [
    "# レシピを確認\n",
    "dataset_group.personalize_client.list_recipes()"
   ]
  },
  {
   "cell_type": "code",
   "execution_count": null,
   "metadata": {},
   "outputs": [],
   "source": [
    "# HRNNレシピでソリューションを作成\n",
    "solution = dataset_group.create_solution(\n",
    "    recipe_arn='arn:aws:personalize:::recipe/aws-hrnn'\n",
    ")\n"
   ]
  },
  {
   "cell_type": "code",
   "execution_count": null,
   "metadata": {},
   "outputs": [],
   "source": [
    "# ソリューションバージョンを作成(モデルを学習させる)\n",
    "solution.create_solution_version()"
   ]
  },
  {
   "cell_type": "markdown",
   "metadata": {},
   "source": [
    "## イベント追加前後でのレコメンド内容の比較"
   ]
  },
  {
   "cell_type": "code",
   "execution_count": null,
   "metadata": {},
   "outputs": [],
   "source": [
    "# アイテムの傾向が見やすそうな、データ数が少ないユーザを見つける\n",
    "df.groupby('USER_ID').size().sort_values()"
   ]
  },
  {
   "cell_type": "code",
   "execution_count": null,
   "metadata": {},
   "outputs": [],
   "source": [
    "def view_past_items(df, user_ids):\n",
    "    dfs = [items.iloc[df.loc[df.USER_ID==user_id, 'ITEM_ID'].values].reset_index(drop=True) for user_id in user_ids]\n",
    "    return pd.concat(dfs, keys=user_ids, levels=[user_ids], axis=1)"
   ]
  },
  {
   "cell_type": "code",
   "execution_count": null,
   "metadata": {},
   "outputs": [],
   "source": [
    "target_user_ids = [202, 441]\n",
    "view_past_items(df, target_user_ids)"
   ]
  },
  {
   "cell_type": "code",
   "execution_count": null,
   "metadata": {},
   "outputs": [],
   "source": [
    "# ユーザ202があまり見ていない、SCI-FI系の映画をイベントとして追加し、レコメンド内容が変化するか確認する\n",
    "items[items.GENRE.str.contains('SCI-FI')]"
   ]
  },
  {
   "cell_type": "code",
   "execution_count": null,
   "metadata": {},
   "outputs": [],
   "source": [
    "def view_recommendation(recommendation, user_ids=None):\n",
    "    user_ids = user_ids or recommendation.keys()\n",
    "    recoms = {}\n",
    "    for user_id in user_ids:\n",
    "        recoms[user_id] = items.iloc[recommendation[user_id]].reset_index()\n",
    "    return pd.concat(recoms, axis=1)"
   ]
  },
  {
   "cell_type": "markdown",
   "metadata": {},
   "source": [
    "### イベント追加前のレコメンド内容の確認"
   ]
  },
  {
   "cell_type": "code",
   "execution_count": null,
   "metadata": {},
   "outputs": [],
   "source": [
    "# バッチでのレコメンドを行う\n",
    "batch_inferenced_recommendations = solution.batch_inference_for_users(\n",
    "    s3_prefix=s3_prefix,\n",
    "    user_ids=df.USER_ID.unique(),\n",
    "    num_results=20,\n",
    "    role_arn=role_arn\n",
    ")"
   ]
  },
  {
   "cell_type": "code",
   "execution_count": null,
   "metadata": {},
   "outputs": [],
   "source": [
    "view_recommendation(batch_inferenced_recommendations, target_user_ids)"
   ]
  },
  {
   "cell_type": "code",
   "execution_count": null,
   "metadata": {},
   "outputs": [],
   "source": [
    "# リアルタイムレコメンド用のキャンペーンを作成する\n",
    "campaign = solution.create_campaign(min_provisioned_tps=1)"
   ]
  },
  {
   "cell_type": "code",
   "execution_count": null,
   "metadata": {},
   "outputs": [],
   "source": [
    "realtime_recommendations = campaign.get_recommendations_for_users(\n",
    "    user_ids=target_user_ids,\n",
    "    num_results=20\n",
    ")\n",
    "view_recommendation(realtime_recommendations)"
   ]
  },
  {
   "cell_type": "markdown",
   "metadata": {},
   "source": [
    "### イベント追加後のレコメンド内容の確認"
   ]
  },
  {
   "cell_type": "code",
   "execution_count": null,
   "metadata": {},
   "outputs": [],
   "source": [
    "# イベントトラッカーを作成する(同時にイベント用のデータセットも作成される)\n",
    "event_tracker = dataset_group.create_event_tracker()"
   ]
  },
  {
   "cell_type": "code",
   "execution_count": null,
   "metadata": {},
   "outputs": [],
   "source": [
    "# ユーザ202にSCI-FI系のアイテムのクリックイベントを追加する\n",
    "event_tracker.put_events(\n",
    "    user_id=202,\n",
    "    session_id=1,\n",
    "    event_list=[EventObject(event_type, {'itemId': '7'})]#, EventObject(event_type, {'itemId': '50'})]\n",
    ")"
   ]
  },
  {
   "cell_type": "code",
   "execution_count": null,
   "metadata": {},
   "outputs": [],
   "source": [
    "realtime_recommendations_after_events = campaign.get_recommendations_for_users(\n",
    "    user_ids=target_user_ids,\n",
    "    num_results=20\n",
    ")\n",
    "view_recommendation(realtime_recommendations_after_events)"
   ]
  },
  {
   "cell_type": "code",
   "execution_count": null,
   "metadata": {},
   "outputs": [],
   "source": [
    "# イベント追加前後でのレコメンド内容が変化したかどうか(イベント追加ユーザ)\n",
    "realtime_recommendations[202] == realtime_recommendations_after_events[202]"
   ]
  },
  {
   "cell_type": "code",
   "execution_count": null,
   "metadata": {},
   "outputs": [],
   "source": [
    "# イベント追加前後でのレコメンド内容が変化したかどうか(イベント追加していないユーザ)\n",
    "realtime_recommendations[441] == realtime_recommendations_after_events[441]"
   ]
  },
  {
   "cell_type": "code",
   "execution_count": null,
   "metadata": {},
   "outputs": [],
   "source": [
    "# バッチレコメンドでも同様deleteる\n",
    "batch_inferenced_recommendations_after_events = solution.batch_inference_for_users(\n",
    "    s3_prefix=path.join(s3_prefix, 'after_events'),\n",
    "    user_ids=df.USER_ID.unique(),\n",
    "    num_results=20,\n",
    "    role_arn=role_arn\n",
    ")\n"
   ]
  },
  {
   "cell_type": "code",
   "execution_count": null,
   "metadata": {},
   "outputs": [],
   "source": [
    "view_recommendation(batch_inferenced_recommendations_after_events, target_user_ids)"
   ]
  },
  {
   "cell_type": "code",
   "execution_count": null,
   "metadata": {},
   "outputs": [],
   "source": [
    "batch_inferenced_recommendations[202] == batch_inferenced_recommendations_after_events[202]"
   ]
  },
  {
   "cell_type": "code",
   "execution_count": null,
   "metadata": {},
   "outputs": [],
   "source": [
    "batch_inferenced_recommendations[441] == batch_inferenced_recommendations_after_events[441]"
   ]
  },
  {
   "cell_type": "markdown",
   "metadata": {},
   "source": [
    "## イベントデータセット削除後のリアルタイムレコメンド内容の確認"
   ]
  },
  {
   "cell_type": "code",
   "execution_count": null,
   "metadata": {},
   "outputs": [],
   "source": [
    "dataset_group.delete_dataset_by_type('EVENT_INTERACTIONS')"
   ]
  },
  {
   "cell_type": "code",
   "execution_count": null,
   "metadata": {},
   "outputs": [],
   "source": [
    "realtime_recommendations_after_events_deletion = campaign.get_recommendations_for_users(\n",
    "    user_ids=target_user_ids,\n",
    "    num_results=20\n",
    ")\n",
    "view_recommendation(realtime_recommendations_after_events_deletion)"
   ]
  },
  {
   "cell_type": "code",
   "execution_count": null,
   "metadata": {},
   "outputs": [],
   "source": [
    "# イベントデータセット削除後とイベント追加後\n",
    "realtime_recommendations_after_events_deletion[202] == realtime_recommendations_after_events[202]"
   ]
  },
  {
   "cell_type": "code",
   "execution_count": null,
   "metadata": {},
   "outputs": [],
   "source": [
    "event_tracker.put_events(\n",
    "    user_id=202,\n",
    "    session_id=1,\n",
    "    event_list=[EventObject(event_type, {'itemId': '50'})]\n",
    ")"
   ]
  },
  {
   "cell_type": "code",
   "execution_count": null,
   "metadata": {},
   "outputs": [],
   "source": [
    "realtime_recommendations_after_events2 = campaign.get_recommendations_for_users(\n",
    "    user_ids=target_user_ids,\n",
    "    num_results=20\n",
    ")\n",
    "# view_recommendation(realtime_recommendations_after_events2)\n",
    "realtime_recommendations_after_events2[202] == realtime_recommendations_after_events[202]"
   ]
  },
  {
   "cell_type": "markdown",
   "metadata": {},
   "source": [
    "## 未学習ユーザに対するイベント追加前後のリアルタイムレコメンド内容の確認"
   ]
  },
  {
   "cell_type": "code",
   "execution_count": null,
   "metadata": {},
   "outputs": [],
   "source": [
    "# イベント用データセットを削除したので、イベントトラッカーを作り直す\n",
    "event_tracker.delete()\n",
    "event_tracker = dataset_group.create_event_tracker()"
   ]
  },
  {
   "cell_type": "code",
   "execution_count": null,
   "metadata": {},
   "outputs": [],
   "source": [
    "untrained_user_ids = [df.USER_ID.max() + 1, df.USER_ID.max() + 2] "
   ]
  },
  {
   "cell_type": "code",
   "execution_count": null,
   "metadata": {},
   "outputs": [],
   "source": [
    "untrained_user_recommendations = campaign.get_recommendations_for_users(\n",
    "    user_ids=untrained_user_ids,\n",
    "    num_results=20\n",
    ")\n",
    "view_recommendation(untrained_user_recommendations)"
   ]
  },
  {
   "cell_type": "code",
   "execution_count": null,
   "metadata": {},
   "outputs": [],
   "source": [
    "\n",
    "# 未学習ユーザにSCI-FI系のアイテムのクリックイベントを追加する\n",
    "event_tracker.put_events(\n",
    "    user_id=df.USER_ID.max() + 1,\n",
    "    session_id=1,\n",
    "    event_list=[EventObject(event_type, {'itemId': '7'}), EventObject(event_type, {'itemId': '50'})]\n",
    ")\n",
    "\n",
    "untrained_user_recommendations_after_events = campaign.get_recommendations_for_users(\n",
    "    user_ids=untrained_user_ids,\n",
    "    num_results=20\n",
    ")\n",
    "view_recommendation(untrained_user_recommendations_after_events)"
   ]
  },
  {
   "cell_type": "code",
   "execution_count": null,
   "metadata": {},
   "outputs": [],
   "source": [
    "untrained_user_recommendations[df.USER_ID.max() + 1] == untrained_user_recommendations_after_events[df.USER_ID.max() + 1]"
   ]
  },
  {
   "cell_type": "markdown",
   "metadata": {},
   "source": [
    "# データセットグループとその関連リソースの削除"
   ]
  },
  {
   "cell_type": "code",
   "execution_count": null,
   "metadata": {},
   "outputs": [],
   "source": [
    "dataset_group.delete_dataset_group(force=True)"
   ]
  }
 ],
 "metadata": {
  "kernelspec": {
   "display_name": "Python 3",
   "language": "python",
   "name": "python3"
  },
  "language_info": {
   "codemirror_mode": {
    "name": "ipython",
    "version": 3
   },
   "file_extension": ".py",
   "mimetype": "text/x-python",
   "name": "python",
   "nbconvert_exporter": "python",
   "pygments_lexer": "ipython3",
   "version": "3.7.7"
  }
 },
 "nbformat": 4,
 "nbformat_minor": 4
}
